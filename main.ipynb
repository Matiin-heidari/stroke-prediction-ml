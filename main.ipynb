{
 "cells": [
  {
   "cell_type": "code",
   "execution_count": null,
   "id": "07b41e11",
   "metadata": {},
   "outputs": [],
   "source": [
    "import pandas as pd\n",
    "import numpy as np\n",
    "import itertools\n",
    "\n",
    "from sklearn.pipeline import Pipeline\n",
    "from sklearn.compose import ColumnTransformer\n",
    "from sklearn.metrics import f1_score, roc_auc_score, confusion_matrix, ConfusionMatrixDisplay, accuracy_score, precision_score, recall_score\n",
    "from sklearn.model_selection import learning_curve, train_test_split, StratifiedKFold, RandomizedSearchCV, cross_validate, RepeatedStratifiedKFold\n",
    "from sklearn.linear_model import LogisticRegression, Perceptron\n",
    "from sklearn.neighbors import KNeighborsClassifier\n",
    "from sklearn.decomposition import PCA\n",
    "from sklearn.ensemble import RandomForestClassifier\n",
    "from sklearn.discriminant_analysis import LinearDiscriminantAnalysis as LDA\n",
    "from sklearn.impute import SimpleImputer\n",
    "from sklearn.preprocessing import StandardScaler, OneHotEncoder, OrdinalEncoder\n",
    "from imblearn.pipeline import Pipeline as ImbPipeline\n",
    "\n",
    "from scipy.stats import loguniform, uniform\n",
    "\n",
    "from imblearn.over_sampling import SMOTE, RandomOverSampler\n",
    "\n",
    "import matplotlib.pyplot as plt\n",
    "import warnings\n",
    "\n",
    "# Suppress all warnings for cleaner output\n",
    "warnings.filterwarnings('ignore')"
   ]
  },
  {
   "cell_type": "markdown",
   "id": "7dfca091",
   "metadata": {},
   "source": [
    "## 1. Dataset Loading"
   ]
  },
  {
   "cell_type": "markdown",
   "id": "1b99b222",
   "metadata": {},
   "source": [
    "Loading the data and dropping the id column since it does not contain usefull information."
   ]
  },
  {
   "cell_type": "code",
   "execution_count": 76,
   "id": "184e50e0",
   "metadata": {},
   "outputs": [],
   "source": [
    "df = pd.read_csv('data.csv')\n",
    "X = df.drop(['id', 'stroke'], axis=1)\n",
    "y = df['stroke']"
   ]
  },
  {
   "cell_type": "markdown",
   "id": "21758a27",
   "metadata": {},
   "source": [
    "## 2. Exploratory Data Analysis (EDA) and Missing Value Analysis"
   ]
  },
  {
   "cell_type": "code",
   "execution_count": 33,
   "id": "59210b1e",
   "metadata": {},
   "outputs": [
    {
     "name": "stdout",
     "output_type": "stream",
     "text": [
      "Original Dataset Head:\n"
     ]
    },
    {
     "data": {
      "text/html": [
       "<div>\n",
       "<style scoped>\n",
       "    .dataframe tbody tr th:only-of-type {\n",
       "        vertical-align: middle;\n",
       "    }\n",
       "\n",
       "    .dataframe tbody tr th {\n",
       "        vertical-align: top;\n",
       "    }\n",
       "\n",
       "    .dataframe thead th {\n",
       "        text-align: right;\n",
       "    }\n",
       "</style>\n",
       "<table border=\"1\" class=\"dataframe\">\n",
       "  <thead>\n",
       "    <tr style=\"text-align: right;\">\n",
       "      <th></th>\n",
       "      <th>id</th>\n",
       "      <th>gender</th>\n",
       "      <th>age</th>\n",
       "      <th>hypertension</th>\n",
       "      <th>heart_disease</th>\n",
       "      <th>ever_married</th>\n",
       "      <th>work_type</th>\n",
       "      <th>Residence_type</th>\n",
       "      <th>avg_glucose_level</th>\n",
       "      <th>bmi</th>\n",
       "      <th>smoking_status</th>\n",
       "      <th>stroke</th>\n",
       "    </tr>\n",
       "  </thead>\n",
       "  <tbody>\n",
       "    <tr>\n",
       "      <th>0</th>\n",
       "      <td>9046</td>\n",
       "      <td>Male</td>\n",
       "      <td>67.0</td>\n",
       "      <td>0</td>\n",
       "      <td>1</td>\n",
       "      <td>Yes</td>\n",
       "      <td>Private</td>\n",
       "      <td>Urban</td>\n",
       "      <td>228.69</td>\n",
       "      <td>36.6</td>\n",
       "      <td>formerly smoked</td>\n",
       "      <td>1</td>\n",
       "    </tr>\n",
       "    <tr>\n",
       "      <th>1</th>\n",
       "      <td>51676</td>\n",
       "      <td>Female</td>\n",
       "      <td>61.0</td>\n",
       "      <td>0</td>\n",
       "      <td>0</td>\n",
       "      <td>Yes</td>\n",
       "      <td>Self-employed</td>\n",
       "      <td>Rural</td>\n",
       "      <td>202.21</td>\n",
       "      <td>NaN</td>\n",
       "      <td>never smoked</td>\n",
       "      <td>1</td>\n",
       "    </tr>\n",
       "    <tr>\n",
       "      <th>2</th>\n",
       "      <td>31112</td>\n",
       "      <td>Male</td>\n",
       "      <td>80.0</td>\n",
       "      <td>0</td>\n",
       "      <td>1</td>\n",
       "      <td>Yes</td>\n",
       "      <td>Private</td>\n",
       "      <td>Rural</td>\n",
       "      <td>105.92</td>\n",
       "      <td>32.5</td>\n",
       "      <td>never smoked</td>\n",
       "      <td>1</td>\n",
       "    </tr>\n",
       "    <tr>\n",
       "      <th>3</th>\n",
       "      <td>60182</td>\n",
       "      <td>Female</td>\n",
       "      <td>49.0</td>\n",
       "      <td>0</td>\n",
       "      <td>0</td>\n",
       "      <td>Yes</td>\n",
       "      <td>Private</td>\n",
       "      <td>Urban</td>\n",
       "      <td>171.23</td>\n",
       "      <td>34.4</td>\n",
       "      <td>smokes</td>\n",
       "      <td>1</td>\n",
       "    </tr>\n",
       "    <tr>\n",
       "      <th>4</th>\n",
       "      <td>1665</td>\n",
       "      <td>Female</td>\n",
       "      <td>79.0</td>\n",
       "      <td>1</td>\n",
       "      <td>0</td>\n",
       "      <td>Yes</td>\n",
       "      <td>Self-employed</td>\n",
       "      <td>Rural</td>\n",
       "      <td>174.12</td>\n",
       "      <td>24.0</td>\n",
       "      <td>never smoked</td>\n",
       "      <td>1</td>\n",
       "    </tr>\n",
       "  </tbody>\n",
       "</table>\n",
       "</div>"
      ],
      "text/plain": [
       "      id  gender   age  hypertension  heart_disease ever_married  \\\n",
       "0   9046    Male  67.0             0              1          Yes   \n",
       "1  51676  Female  61.0             0              0          Yes   \n",
       "2  31112    Male  80.0             0              1          Yes   \n",
       "3  60182  Female  49.0             0              0          Yes   \n",
       "4   1665  Female  79.0             1              0          Yes   \n",
       "\n",
       "       work_type Residence_type  avg_glucose_level   bmi   smoking_status  \\\n",
       "0        Private          Urban             228.69  36.6  formerly smoked   \n",
       "1  Self-employed          Rural             202.21   NaN     never smoked   \n",
       "2        Private          Rural             105.92  32.5     never smoked   \n",
       "3        Private          Urban             171.23  34.4           smokes   \n",
       "4  Self-employed          Rural             174.12  24.0     never smoked   \n",
       "\n",
       "   stroke  \n",
       "0       1  \n",
       "1       1  \n",
       "2       1  \n",
       "3       1  \n",
       "4       1  "
      ]
     },
     "execution_count": 33,
     "metadata": {},
     "output_type": "execute_result"
    }
   ],
   "source": [
    "print(\"Original Dataset Head:\")\n",
    "df.head()"
   ]
  },
  {
   "cell_type": "code",
   "execution_count": 34,
   "id": "1b2f7463",
   "metadata": {},
   "outputs": [
    {
     "name": "stdout",
     "output_type": "stream",
     "text": [
      "\n",
      "Dataset shape: (1501, 10)\n"
     ]
    }
   ],
   "source": [
    "print(\"\\nDataset shape:\", X.shape)"
   ]
  },
  {
   "cell_type": "code",
   "execution_count": 35,
   "id": "a7ca1af9",
   "metadata": {},
   "outputs": [
    {
     "name": "stdout",
     "output_type": "stream",
     "text": [
      "Target variable distribution (0: no stroke, 1: stroke):\n",
      " stroke\n",
      "0    1252\n",
      "1     249\n",
      "Name: count, dtype: int64\n"
     ]
    }
   ],
   "source": [
    "print(\"Target variable distribution (0: no stroke, 1: stroke):\\n\", y.value_counts())"
   ]
  },
  {
   "cell_type": "code",
   "execution_count": 36,
   "id": "c0b27f43",
   "metadata": {},
   "outputs": [
    {
     "name": "stdout",
     "output_type": "stream",
     "text": [
      "Stroke percentage: 16.59%\n"
     ]
    }
   ],
   "source": [
    "print(f\"Stroke percentage: {y.value_counts(normalize=True)[1]:.2%}\")"
   ]
  },
  {
   "cell_type": "code",
   "execution_count": 77,
   "id": "36d688e7",
   "metadata": {},
   "outputs": [
    {
     "name": "stdout",
     "output_type": "stream",
     "text": [
      "Dataset Info:\n",
      "<class 'pandas.core.frame.DataFrame'>\n",
      "RangeIndex: 1501 entries, 0 to 1500\n",
      "Data columns (total 10 columns):\n",
      " #   Column             Non-Null Count  Dtype  \n",
      "---  ------             --------------  -----  \n",
      " 0   gender             1501 non-null   object \n",
      " 1   age                1501 non-null   float64\n",
      " 2   hypertension       1501 non-null   int64  \n",
      " 3   heart_disease      1501 non-null   int64  \n",
      " 4   ever_married       1501 non-null   object \n",
      " 5   work_type          1501 non-null   object \n",
      " 6   Residence_type     1501 non-null   object \n",
      " 7   avg_glucose_level  1501 non-null   float64\n",
      " 8   bmi                1423 non-null   float64\n",
      " 9   smoking_status     1501 non-null   object \n",
      "dtypes: float64(3), int64(2), object(5)\n",
      "memory usage: 117.4+ KB\n"
     ]
    }
   ],
   "source": [
    "print(\"Dataset Info:\")\n",
    "X.info()"
   ]
  },
  {
   "cell_type": "code",
   "execution_count": 38,
   "id": "33f3cbd2",
   "metadata": {},
   "outputs": [
    {
     "name": "stdout",
     "output_type": "stream",
     "text": [
      "\n",
      "Descriptive Statistics for Numerical Features:\n"
     ]
    },
    {
     "data": {
      "text/html": [
       "<div>\n",
       "<style scoped>\n",
       "    .dataframe tbody tr th:only-of-type {\n",
       "        vertical-align: middle;\n",
       "    }\n",
       "\n",
       "    .dataframe tbody tr th {\n",
       "        vertical-align: top;\n",
       "    }\n",
       "\n",
       "    .dataframe thead th {\n",
       "        text-align: right;\n",
       "    }\n",
       "</style>\n",
       "<table border=\"1\" class=\"dataframe\">\n",
       "  <thead>\n",
       "    <tr style=\"text-align: right;\">\n",
       "      <th></th>\n",
       "      <th>age</th>\n",
       "      <th>hypertension</th>\n",
       "      <th>heart_disease</th>\n",
       "      <th>avg_glucose_level</th>\n",
       "      <th>bmi</th>\n",
       "    </tr>\n",
       "  </thead>\n",
       "  <tbody>\n",
       "    <tr>\n",
       "      <th>count</th>\n",
       "      <td>1501.000000</td>\n",
       "      <td>1501.000000</td>\n",
       "      <td>1501.000000</td>\n",
       "      <td>1501.000000</td>\n",
       "      <td>1423.000000</td>\n",
       "    </tr>\n",
       "    <tr>\n",
       "      <th>mean</th>\n",
       "      <td>46.269500</td>\n",
       "      <td>0.117921</td>\n",
       "      <td>0.068621</td>\n",
       "      <td>110.086829</td>\n",
       "      <td>29.401335</td>\n",
       "    </tr>\n",
       "    <tr>\n",
       "      <th>std</th>\n",
       "      <td>23.051721</td>\n",
       "      <td>0.322622</td>\n",
       "      <td>0.252893</td>\n",
       "      <td>48.207092</td>\n",
       "      <td>7.829511</td>\n",
       "    </tr>\n",
       "    <tr>\n",
       "      <th>min</th>\n",
       "      <td>0.240000</td>\n",
       "      <td>0.000000</td>\n",
       "      <td>0.000000</td>\n",
       "      <td>55.220000</td>\n",
       "      <td>12.000000</td>\n",
       "    </tr>\n",
       "    <tr>\n",
       "      <th>25%</th>\n",
       "      <td>28.000000</td>\n",
       "      <td>0.000000</td>\n",
       "      <td>0.000000</td>\n",
       "      <td>78.400000</td>\n",
       "      <td>24.100000</td>\n",
       "    </tr>\n",
       "    <tr>\n",
       "      <th>50%</th>\n",
       "      <td>49.000000</td>\n",
       "      <td>0.000000</td>\n",
       "      <td>0.000000</td>\n",
       "      <td>93.880000</td>\n",
       "      <td>28.400000</td>\n",
       "    </tr>\n",
       "    <tr>\n",
       "      <th>75%</th>\n",
       "      <td>65.000000</td>\n",
       "      <td>0.000000</td>\n",
       "      <td>0.000000</td>\n",
       "      <td>119.010000</td>\n",
       "      <td>33.600000</td>\n",
       "    </tr>\n",
       "    <tr>\n",
       "      <th>max</th>\n",
       "      <td>82.000000</td>\n",
       "      <td>1.000000</td>\n",
       "      <td>1.000000</td>\n",
       "      <td>271.740000</td>\n",
       "      <td>78.000000</td>\n",
       "    </tr>\n",
       "  </tbody>\n",
       "</table>\n",
       "</div>"
      ],
      "text/plain": [
       "               age  hypertension  heart_disease  avg_glucose_level  \\\n",
       "count  1501.000000   1501.000000    1501.000000        1501.000000   \n",
       "mean     46.269500      0.117921       0.068621         110.086829   \n",
       "std      23.051721      0.322622       0.252893          48.207092   \n",
       "min       0.240000      0.000000       0.000000          55.220000   \n",
       "25%      28.000000      0.000000       0.000000          78.400000   \n",
       "50%      49.000000      0.000000       0.000000          93.880000   \n",
       "75%      65.000000      0.000000       0.000000         119.010000   \n",
       "max      82.000000      1.000000       1.000000         271.740000   \n",
       "\n",
       "               bmi  \n",
       "count  1423.000000  \n",
       "mean     29.401335  \n",
       "std       7.829511  \n",
       "min      12.000000  \n",
       "25%      24.100000  \n",
       "50%      28.400000  \n",
       "75%      33.600000  \n",
       "max      78.000000  "
      ]
     },
     "execution_count": 38,
     "metadata": {},
     "output_type": "execute_result"
    }
   ],
   "source": [
    "print(\"\\nDescriptive Statistics for Numerical Features:\")\n",
    "X.describe()"
   ]
  },
  {
   "cell_type": "code",
   "execution_count": null,
   "id": "a076e2a1",
   "metadata": {},
   "outputs": [
    {
     "name": "stdout",
     "output_type": "stream",
     "text": [
      "\n",
      "Percentage of missing values per column:\n",
      "bmi    0.051965\n",
      "dtype: float64\n"
     ]
    }
   ],
   "source": [
    "print(\"\\nPercentage of missing values per column:\")\n",
    "missing_percentages = X.isnull().sum(axis=0) / X.shape[0]\n",
    "print(missing_percentages[missing_percentages > 0])"
   ]
  },
  {
   "cell_type": "markdown",
   "id": "afe02100",
   "metadata": {},
   "source": [
    "## 3. Definition of the Data Transformation Pipeline"
   ]
  },
  {
   "cell_type": "code",
   "execution_count": 78,
   "id": "ee42b6e2",
   "metadata": {},
   "outputs": [],
   "source": [
    "numerical_features = ['age', 'avg_glucose_level', 'bmi']\n",
    "categorical_features = ['gender', 'ever_married', 'work_type', 'Residence_type', 'smoking_status']\n",
    "\n",
    "# Pipeline for numerical features: Imputation (for 'bmi') and Scaling\n",
    "numerical_transformer = Pipeline(steps=[\n",
    "    ('imputer', SimpleImputer(strategy='mean')), \n",
    "    ('scaler', StandardScaler())\n",
    "])\n",
    "\n",
    "# Pipeline for categorical features: Imputation (if any) and One-Hot Encoding\n",
    "categorical_transformer = Pipeline(steps=[\n",
    "    ('imputer', SimpleImputer(strategy='most_frequent')), # For any potential missing categorical values\n",
    "    ('onehot', OneHotEncoder(handle_unknown='ignore')) # 'ignore' new categories in test set\n",
    "])"
   ]
  },
  {
   "cell_type": "code",
   "execution_count": 79,
   "id": "81e1ca42",
   "metadata": {},
   "outputs": [
    {
     "name": "stdout",
     "output_type": "stream",
     "text": [
      "Data transformation pipelines defined.\n"
     ]
    }
   ],
   "source": [
    "# Create a ColumnTransformer to apply different transformations to different columns\n",
    "preprocessor = ColumnTransformer(\n",
    "    transformers=[\n",
    "        ('num', numerical_transformer, numerical_features),\n",
    "        ('cat', categorical_transformer, categorical_features)\n",
    "    ],\n",
    "    remainder='drop', # Drop columns not specified\n",
    "    verbose_feature_names_out=False # To get clean feature names out of OneHotEncoder\n",
    ")\n",
    "\n",
    "print(\"Data transformation pipelines defined.\")"
   ]
  },
  {
   "cell_type": "markdown",
   "id": "9ca7ce61",
   "metadata": {},
   "source": [
    "# 4. Training and Test Sets"
   ]
  },
  {
   "cell_type": "code",
   "execution_count": null,
   "id": "465842c0",
   "metadata": {},
   "outputs": [
    {
     "name": "stdout",
     "output_type": "stream",
     "text": [
      "Training set shape: (1200, 10), Test set shape: (301, 10)\n",
      "Training target distribution:\n",
      "stroke\n",
      "0    0.834167\n",
      "1    0.165833\n",
      "Name: proportion, dtype: float64\n",
      "Test target distribution:\n",
      "stroke\n",
      "0    0.833887\n",
      "1    0.166113\n",
      "Name: proportion, dtype: float64\n"
     ]
    }
   ],
   "source": [
    "X_train, X_test, y_train, y_test = train_test_split(X, y, test_size=0.2, stratify=y, random_state=42, shuffle=True)\n",
    "\n",
    "print(f\"Training set shape: {X_train.shape}, Test set shape: {X_test.shape}\")\n",
    "print(f\"Training target distribution:\\n{y_train.value_counts(normalize=True)}\")\n",
    "print(f\"Test target distribution:\\n{y_test.value_counts(normalize=True)}\")"
   ]
  },
  {
   "cell_type": "markdown",
   "id": "47e09a08",
   "metadata": {},
   "source": [
    "Initial pipeline structure for nested cross-validation.\n",
    "Placeholder classifier that will be tuned by RandomizedSearchCV."
   ]
  },
  {
   "cell_type": "code",
   "execution_count": null,
   "id": "0e535e31",
   "metadata": {},
   "outputs": [],
   "source": [
    "model_pipeline = ImbPipeline([\n",
    "    ('preprocessor', preprocessor),\n",
    "    ('sampler', SMOTE()),\n",
    "    ('dim_reduction', PCA(n_components=0.8)),\n",
    "    ('classifier', Perceptron())\n",
    "])"
   ]
  },
  {
   "cell_type": "markdown",
   "id": "e4de4668",
   "metadata": {},
   "source": [
    "Sanity check, to ensure pipeline is working as expected."
   ]
  },
  {
   "cell_type": "code",
   "execution_count": null,
   "id": "773f32f9",
   "metadata": {},
   "outputs": [
    {
     "name": "stdout",
     "output_type": "stream",
     "text": [
      "\n",
      "Sanity check for initial pipeline:\n",
      "Initial pipeline fit and predict successful.\n"
     ]
    }
   ],
   "source": [
    "print(\"\\nSanity check for initial pipeline:\")\n",
    "try:\n",
    "    model_pipeline.fit(X_train, y_train)\n",
    "    _ = model_pipeline.predict(X_test)\n",
    "    print(\"Initial pipeline fit and predict successful.\")\n",
    "except Exception as e:\n",
    "    print(f\"Error during initial pipeline sanity check: {e}\")"
   ]
  },
  {
   "cell_type": "markdown",
   "id": "0353b2bf",
   "metadata": {},
   "source": [
    "hyperparameter configurations for different classifiers"
   ]
  },
  {
   "cell_type": "code",
   "execution_count": null,
   "id": "3b46fcc5",
   "metadata": {},
   "outputs": [],
   "source": [
    "sampler_configs = [\n",
    "    {\n",
    "        'sampler':[None],\n",
    "    },\n",
    "    {\n",
    "        'sampler':[SMOTE()],\n",
    "        'sampler__sampling_strategy':['minority', 1.2, 0.9, 0.7]\n",
    "    },\n",
    "    {\n",
    "        'sampler':[RandomOverSampler()],\n",
    "        'sampler__sampling_strategy':['minority', 1.2, 0.9, 0.7]\n",
    "    }\n",
    "]\n",
    "\n",
    "dim_reduction_configs = [\n",
    "    {\n",
    "        'dim_reduction': [None]\n",
    "    },\n",
    "    {\n",
    "        'dim_reduction': [PCA()],\n",
    "        'dim_reduction__n_components': [0.5, 0.7, 0.9]\n",
    "    },\n",
    "    {\n",
    "        'dim_reduction': [LDA()]\n",
    "    }\n",
    "]\n",
    "\n",
    "\n",
    "classifier_configs = [\n",
    "    {\n",
    "        'classifier__eta0' : loguniform(0.001,100),\n",
    "        'classifier': [Perceptron()] ,\n",
    "        'classifier__max_iter': [1,5,10,15,50,100] ,\n",
    "        'classifier__class_weight' : [None, 'balanced']\n",
    "\n",
    "    },\n",
    "    {\n",
    "        'classifier': [LogisticRegression(solver='saga')],\n",
    "        'classifier__C' : loguniform(0.001,100),\n",
    "        'classifier__penalty': ['l1','l2'],\n",
    "        'classifier__class_weight' : [None, 'balanced']\n",
    "\n",
    "    },\n",
    "    {\n",
    "        'classifier': [KNeighborsClassifier()],\n",
    "        'classifier__n_neighbors': [3,5,7,9]\n",
    "    },\n",
    "    {\n",
    "        'classifier' : [RandomForestClassifier()],\n",
    "        'classifier__n_estimators' : [10,50,100, 500]\n",
    "    }\n",
    "]"
   ]
  },
  {
   "cell_type": "markdown",
   "id": "e1e0c90a",
   "metadata": {},
   "source": [
    "Generate all possible configurations by simply appending classifier_configs."
   ]
  },
  {
   "cell_type": "code",
   "execution_count": null,
   "id": "67fed6eb",
   "metadata": {},
   "outputs": [
    {
     "name": "stdout",
     "output_type": "stream",
     "text": [
      "\n",
      "Number of different base classifier configurations for RandomizedSearchCV: 36\n"
     ]
    }
   ],
   "source": [
    "all_configs = []\n",
    "for sampler_config, dim_reduction_config, classifier_config in itertools.product(sampler_configs, dim_reduction_configs, classifier_configs):\n",
    "    combined_config = {}\n",
    "    combined_config.update(sampler_config)\n",
    "    combined_config.update(dim_reduction_config)\n",
    "    combined_config.update(classifier_config)\n",
    "    all_configs.append(combined_config)\n",
    "\n",
    "print(f\"\\nNumber of different base classifier configurations for RandomizedSearchCV: {len(all_configs)}\")"
   ]
  },
  {
   "cell_type": "markdown",
   "id": "bdd18966",
   "metadata": {},
   "source": [
    "RandomizedSearchCV for the inner loop"
   ]
  },
  {
   "cell_type": "code",
   "execution_count": null,
   "id": "a61f1727",
   "metadata": {},
   "outputs": [],
   "source": [
    "rs = RandomizedSearchCV(\n",
    "    estimator=model_pipeline,\n",
    "    param_distributions=all_configs,\n",
    "    n_iter=len(all_configs) * 4, \n",
    "    n_jobs=-1, \n",
    "    cv=2,\n",
    "    scoring='f1',\n",
    "    random_state=42,\n",
    ")"
   ]
  },
  {
   "cell_type": "code",
   "execution_count": null,
   "id": "52f1f602",
   "metadata": {},
   "outputs": [
    {
     "name": "stdout",
     "output_type": "stream",
     "text": [
      "[Parallel(n_jobs=-1)]: Using backend LokyBackend with 16 concurrent workers.\n",
      "\n",
      "Nested cross-validation complete.\n",
      "Cross-validation F1-scores for each fold: [0.55932203 0.57142857 0.544      0.49253731 0.51282051]\n",
      "\n"
     ]
    }
   ],
   "source": [
    "scores = cross_validate(rs, X_train, y_train,\n",
    "                        scoring='f1',\n",
    "                        cv=5,\n",
    "                        return_estimator=True,\n",
    "                        verbose=3,\n",
    "                        n_jobs=-1)\n",
    "\n",
    "print(\"\\nNested cross-validation complete.\")\n",
    "print(\"Cross-validation F1-scores for each fold:\", scores['test_score']) "
   ]
  },
  {
   "cell_type": "markdown",
   "id": "a8c8f891",
   "metadata": {},
   "source": [
    "# 6. Evaluation of Best Candidates"
   ]
  },
  {
   "cell_type": "code",
   "execution_count": 49,
   "id": "175f4499",
   "metadata": {},
   "outputs": [
    {
     "name": "stdout",
     "output_type": "stream",
     "text": [
      "None\n",
      "None\n",
      "LogisticRegression(C=np.float64(0.45151576288430445), class_weight='balanced',\n",
      "                   solver='saga') {'C': np.float64(0.45151576288430445), 'class_weight': 'balanced', 'dual': False, 'fit_intercept': True, 'intercept_scaling': 1, 'l1_ratio': None, 'max_iter': 100, 'multi_class': 'deprecated', 'n_jobs': None, 'penalty': 'l2', 'random_state': None, 'solver': 'saga', 'tol': 0.0001, 'verbose': 0, 'warm_start': False}\n",
      "0.559322033898305\n",
      "----------\n",
      "RandomOverSampler(sampling_strategy=0.9)\n",
      "LinearDiscriminantAnalysis()\n",
      "LogisticRegression(C=np.float64(0.05628491809848934), solver='saga') {'C': np.float64(0.05628491809848934), 'class_weight': None, 'dual': False, 'fit_intercept': True, 'intercept_scaling': 1, 'l1_ratio': None, 'max_iter': 100, 'multi_class': 'deprecated', 'n_jobs': None, 'penalty': 'l2', 'random_state': None, 'solver': 'saga', 'tol': 0.0001, 'verbose': 0, 'warm_start': False}\n",
      "0.5714285714285714\n",
      "----------\n",
      "None\n",
      "None\n",
      "LogisticRegression(C=np.float64(95.77860311800293), class_weight='balanced',\n",
      "                   solver='saga') {'C': np.float64(95.77860311800293), 'class_weight': 'balanced', 'dual': False, 'fit_intercept': True, 'intercept_scaling': 1, 'l1_ratio': None, 'max_iter': 100, 'multi_class': 'deprecated', 'n_jobs': None, 'penalty': 'l2', 'random_state': None, 'solver': 'saga', 'tol': 0.0001, 'verbose': 0, 'warm_start': False}\n",
      "0.544\n",
      "----------\n",
      "RandomOverSampler(sampling_strategy='minority')\n",
      "None\n",
      "LogisticRegression(C=np.float64(11.234842109991876), solver='saga') {'C': np.float64(11.234842109991876), 'class_weight': None, 'dual': False, 'fit_intercept': True, 'intercept_scaling': 1, 'l1_ratio': None, 'max_iter': 100, 'multi_class': 'deprecated', 'n_jobs': None, 'penalty': 'l2', 'random_state': None, 'solver': 'saga', 'tol': 0.0001, 'verbose': 0, 'warm_start': False}\n",
      "0.4925373134328358\n",
      "----------\n",
      "SMOTE(sampling_strategy='minority')\n",
      "LinearDiscriminantAnalysis()\n",
      "LogisticRegression(C=np.float64(0.47739011308437823), class_weight='balanced',\n",
      "                   solver='saga') {'C': np.float64(0.47739011308437823), 'class_weight': 'balanced', 'dual': False, 'fit_intercept': True, 'intercept_scaling': 1, 'l1_ratio': None, 'max_iter': 100, 'multi_class': 'deprecated', 'n_jobs': None, 'penalty': 'l2', 'random_state': None, 'solver': 'saga', 'tol': 0.0001, 'verbose': 0, 'warm_start': False}\n",
      "0.5128205128205128\n",
      "----------\n"
     ]
    }
   ],
   "source": [
    "for index, estimator in enumerate(scores['estimator']):\n",
    "    print(estimator.best_estimator_.get_params()['sampler'])\n",
    "    print(estimator.best_estimator_.get_params()['dim_reduction'])\n",
    "    print(estimator.best_estimator_.get_params()['classifier'],estimator.best_estimator_.get_params()['classifier'].get_params())\n",
    "    print(scores['test_score'][index])\n",
    "    print('-'*10)"
   ]
  },
  {
   "cell_type": "markdown",
   "id": "08216b19",
   "metadata": {},
   "source": [
    "# 7. Refinement of the Selected Model\n"
   ]
  },
  {
   "cell_type": "code",
   "execution_count": null,
   "id": "87e495c7",
   "metadata": {},
   "outputs": [],
   "source": [
    "# Select the overall best estimator based on mean test_score\n",
    "best_overall_f1_idx = np.argmax(scores['test_score'])\n",
    "best_overall_estimator_pipeline = scores['estimator'][best_overall_f1_idx].best_estimator_"
   ]
  },
  {
   "cell_type": "code",
   "execution_count": 57,
   "id": "54f75c53",
   "metadata": {},
   "outputs": [
    {
     "name": "stdout",
     "output_type": "stream",
     "text": [
      "Refining model based on the best performing classifier from nested CV: LogisticRegression\n"
     ]
    }
   ],
   "source": [
    "# Get the type of the best classifier for targeted refinement\n",
    "best_classifier_type = type(best_overall_estimator_pipeline.named_steps['classifier'])\n",
    "print(f\"Refining model based on the best performing classifier from nested CV: {best_classifier_type.__name__}\")"
   ]
  },
  {
   "cell_type": "code",
   "execution_count": 64,
   "id": "a43659f2",
   "metadata": {},
   "outputs": [],
   "source": [
    "# Define a specific pipeline for refinement using the structure and best classifier found\n",
    "refined_model_pipeline = ImbPipeline([\n",
    "    ('preprocessor', preprocessor),\n",
    "    ('sampler', RandomOverSampler()),\n",
    "    ('dim_reduction', LDA()),\n",
    "    ('classifier', LogisticRegression(solver='saga', penalty = 'l1'))\n",
    "])"
   ]
  },
  {
   "cell_type": "code",
   "execution_count": 65,
   "id": "a063b0e1",
   "metadata": {},
   "outputs": [],
   "source": [
    "# Define a narrower parameter search space for refinement based on the best classifier's type\n",
    "refinement_params = {\n",
    "    'classifier__C': [0.04, 0.05, 0.06],\n",
    "    'sampler__sampling_strategy': ['minority', 0.85, 0.9, 0.95]\n",
    "}"
   ]
  },
  {
   "cell_type": "code",
   "execution_count": 68,
   "id": "1344e9d5",
   "metadata": {},
   "outputs": [
    {
     "name": "stdout",
     "output_type": "stream",
     "text": [
      "Fitting 15 folds for each of 12 candidates, totalling 180 fits\n",
      "\n",
      "Best parameters after refinement: {'sampler__sampling_strategy': 0.9, 'classifier__C': 0.06}\n",
      "Best F1 score after refinement (on CV folds): 0.5400\n"
     ]
    }
   ],
   "source": [
    "rs_best = RandomizedSearchCV(\n",
    "    estimator=refined_model_pipeline,\n",
    "    param_distributions=refinement_params,\n",
    "    cv=RepeatedStratifiedKFold(n_splits=5, n_repeats=3, random_state=42),\n",
    "    n_iter=100,\n",
    "    scoring='f1',\n",
    "    random_state=42,\n",
    "    n_jobs=-1,\n",
    "    verbose=1\n",
    ")\n",
    "rs_best.fit(X_train, y_train)\n",
    "\n",
    "print(f\"\\nBest parameters after refinement: {rs_best.best_params_}\")\n",
    "print(f\"Best F1 score after refinement (on CV folds): {rs_best.best_score_:.4f}\")\n",
    "final_best_model = rs_best.best_estimator_"
   ]
  },
  {
   "cell_type": "markdown",
   "id": "49014cdc",
   "metadata": {},
   "source": [
    "# 8. Final Evaluation and Visualization\n"
   ]
  },
  {
   "cell_type": "code",
   "execution_count": 69,
   "id": "6287bec8",
   "metadata": {},
   "outputs": [
    {
     "name": "stdout",
     "output_type": "stream",
     "text": [
      "Final Accuracy Score on the held-out test set: 0.7309\n",
      "Final Precision Score on the held-out test set: 0.3434\n",
      "Final Recall Score on the held-out test set: 0.6800\n",
      "Final F1-score on the held-out test set: 0.4564\n",
      "Final ROC AUC score on the held-out test set: 0.8280\n"
     ]
    }
   ],
   "source": [
    "y_test_pred_final = final_best_model.predict(X_test)\n",
    "final_accuracy_score = accuracy_score(y_test, y_test_pred_final)\n",
    "final_precision_score = precision_score(y_test, y_test_pred_final)\n",
    "final_recall_score = recall_score(y_test, y_test_pred_final)\n",
    "final_f1_score = f1_score(y_test, y_test_pred_final)\n",
    "final_roc_auc_score = roc_auc_score(y_test, final_best_model.predict_proba(X_test)[:, 1])\n",
    "\n",
    "print(f\"Final Accuracy Score on the held-out test set: {final_accuracy_score:.4f}\")\n",
    "print(f\"Final Precision Score on the held-out test set: {final_precision_score:.4f}\")\n",
    "print(f\"Final Recall Score on the held-out test set: {final_recall_score:.4f}\")\n",
    "print(f\"Final F1-score on the held-out test set: {final_f1_score:.4f}\")\n",
    "print(f\"Final ROC AUC score on the held-out test set: {final_roc_auc_score:.4f}\")"
   ]
  },
  {
   "cell_type": "code",
   "execution_count": null,
   "id": "d3aa5782",
   "metadata": {},
   "outputs": [
    {
     "name": "stdout",
     "output_type": "stream",
     "text": [
      "Threshold: 0.10 | Precision: 0.2092 | Recall: 1.0000 | F1-Score: 0.3460\n",
      "Threshold: 0.15 | Precision: 0.2439 | Recall: 1.0000 | F1-Score: 0.3922\n",
      "Threshold: 0.20 | Precision: 0.2688 | Recall: 1.0000 | F1-Score: 0.4237\n",
      "Threshold: 0.25 | Precision: 0.2800 | Recall: 0.9800 | F1-Score: 0.4356\n",
      "Threshold: 0.30 | Precision: 0.2885 | Recall: 0.9000 | F1-Score: 0.4369\n",
      "Threshold: 0.35 | Precision: 0.3143 | Recall: 0.8800 | F1-Score: 0.4632\n",
      "Threshold: 0.40 | Precision: 0.3226 | Recall: 0.8000 | F1-Score: 0.4598\n",
      "Threshold: 0.45 | Precision: 0.3246 | Recall: 0.7400 | F1-Score: 0.4512\n",
      "Threshold: 0.50 | Precision: 0.3434 | Recall: 0.6800 | F1-Score: 0.4564\n",
      "Threshold: 0.55 | Precision: 0.3951 | Recall: 0.6400 | F1-Score: 0.4885\n",
      "Threshold: 0.60 | Precision: 0.4189 | Recall: 0.6200 | F1-Score: 0.5000\n",
      "Threshold: 0.65 | Precision: 0.4154 | Recall: 0.5400 | F1-Score: 0.4696\n",
      "Threshold: 0.70 | Precision: 0.5417 | Recall: 0.5200 | F1-Score: 0.5306\n",
      "Threshold: 0.75 | Precision: 0.5676 | Recall: 0.4200 | F1-Score: 0.4828\n",
      "Threshold: 0.80 | Precision: 0.5000 | Recall: 0.2600 | F1-Score: 0.3421\n",
      "Threshold: 0.85 | Precision: 0.5455 | Recall: 0.1200 | F1-Score: 0.1967\n",
      "Threshold: 0.90 | Precision: 1.0000 | Recall: 0.0200 | F1-Score: 0.0392\n",
      "Threshold: 0.95 | Precision: 0.0000 | Recall: 0.0000 | F1-Score: 0.0000\n"
     ]
    }
   ],
   "source": [
    "probabilities = final_best_model.predict_proba(X_test)[:, 1]\n",
    "\n",
    "thresholds = np.arange(0.1, 1.0, 0.05) # Test a range of thresholds\n",
    "for t in thresholds:\n",
    "    y_pred_threshold = (probabilities >= t).astype(int)\n",
    "    prec = precision_score(y_test, y_pred_threshold)\n",
    "    rec = recall_score(y_test, y_pred_threshold)\n",
    "    f1 = f1_score(y_test, y_pred_threshold)\n",
    "    print(f\"Threshold: {t:.2f} | Precision: {prec:.4f} | Recall: {rec:.4f} | F1-Score: {f1:.4f}\")\n"
   ]
  },
  {
   "cell_type": "code",
   "execution_count": 73,
   "id": "23fe0ff8",
   "metadata": {},
   "outputs": [],
   "source": [
    "y_test_pred_final_threshold = (probabilities >= 0.6).astype(int)"
   ]
  },
  {
   "cell_type": "code",
   "execution_count": 74,
   "id": "8679126d",
   "metadata": {},
   "outputs": [
    {
     "name": "stdout",
     "output_type": "stream",
     "text": [
      "\n",
      "Confusion Matrix for the Final Model:\n"
     ]
    },
    {
     "data": {
      "image/png": "[encoded data removed]",
      "text/plain": [
       "<Figure size 640x480 with 2 Axes>"
      ]
     },
     "metadata": {},
     "output_type": "display_data"
    }
   ],
   "source": [
    "# Confusion Matrix for the final model\n",
    "print(\"\\nConfusion Matrix for the Final Model:\")\n",
    "cm_final = confusion_matrix(y_test, y_test_pred_final_threshold, labels=final_best_model.classes_)\n",
    "disp_final = ConfusionMatrixDisplay(confusion_matrix=cm_final, display_labels=final_best_model.classes_)\n",
    "disp_final.plot(cmap=plt.cm.Blues)\n",
    "plt.title(\"Final Model Confusion Matrix on Test Set\")\n",
    "plt.show()\n"
   ]
  },
  {
   "cell_type": "code",
   "execution_count": null,
   "id": "3b90cd02",
   "metadata": {},
   "outputs": [
    {
     "name": "stdout",
     "output_type": "stream",
     "text": [
      "\n",
      "Generating Learning Curve...\n"
     ]
    },
    {
     "data": {
      "image/png": "[encoded data removed]",
      "text/plain": [
       "<Figure size 1200x700 with 1 Axes>"
      ]
     },
     "metadata": {},
     "output_type": "display_data"
    }
   ],
   "source": [
    "\n",
    "print(\"\\nGenerating Learning Curve...\")\n",
    "train_sizes, train_scores, test_scores = learning_curve(\n",
    "    final_best_model,\n",
    "    X=X_train,\n",
    "    y=y_train,\n",
    "    train_sizes=np.linspace(0.1, 1.0, 10),\n",
    "    cv=StratifiedKFold(n_splits=5, shuffle=True, random_state=42),\n",
    "    n_jobs=-1,\n",
    "    scoring='f1',\n",
    "    shuffle=True,\n",
    "    random_state=42\n",
    ")\n",
    "\n",
    "train_mean = np.mean(train_scores, axis=1)\n",
    "train_std = np.std(train_scores, axis=1)\n",
    "test_mean = np.mean(test_scores, axis=1)\n",
    "test_std = np.std(test_scores, axis=1)\n",
    "\n",
    "plt.figure(figsize=(12, 7))\n",
    "plt.plot(train_sizes, train_mean, color='blue', marker='o', markersize=5, label='Training F1-score')\n",
    "plt.fill_between(train_sizes, train_mean + train_std, train_mean - train_std, alpha=0.15, color='blue')\n",
    "plt.plot(train_sizes, test_mean, color='green', linestyle='--', marker='s', markersize=5, label='Validation F1-score')\n",
    "plt.fill_between(train_sizes, test_mean + test_std, test_mean - test_std, alpha=0.15, color='green')\n",
    "plt.grid()\n",
    "plt.xlabel('Training set size')\n",
    "plt.ylabel('F1-score')\n",
    "plt.title('Learning Curve for Final Model')\n",
    "plt.legend(loc='lower right')\n",
    "plt.ylim([0.0, 1.05])\n",
    "plt.show()"
   ]
  },
  {
   "cell_type": "code",
   "execution_count": null,
   "id": "6829b132",
   "metadata": {},
   "outputs": [],
   "source": []
  }
 ],
 "metadata": {
  "kernelspec": {
   "display_name": "stroke-prediction-sasan-blV3tSLT",
   "language": "python",
   "name": "python3"
  },
  "language_info": {
   "codemirror_mode": {
    "name": "ipython",
    "version": 3
   },
   "file_extension": ".py",
   "mimetype": "text/x-python",
   "name": "python",
   "nbconvert_exporter": "python",
   "pygments_lexer": "ipython3",
   "version": "3.13.2"
  }
 },
 "nbformat": 4,
 "nbformat_minor": 5
}
